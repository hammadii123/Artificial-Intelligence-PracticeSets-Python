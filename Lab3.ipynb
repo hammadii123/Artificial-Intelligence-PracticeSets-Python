{
 "cells": [
  {
   "cell_type": "code",
   "execution_count": 11,
   "id": "2578d7d4-acd0-4e23-b0f8-fdcf5bd55ec9",
   "metadata": {},
   "outputs": [
    {
     "name": "stdout",
     "output_type": "stream",
     "text": [
      "Prediction: [0 1 0]\n",
      "Confusion Matrix:\n",
      "[[1 0]\n",
      " [1 1]]\n",
      "Accuracy: 0.6666666666666666\n"
     ]
    }
   ],
   "source": [
    "# 1.Implement K-Nearest Neighbor (KNN) Algorithm on the above dataset in Fig 1 to predict whether the players can play or not when the weather is overcast and the temperature is mild.Also apply confusion Matrix.\n",
    "\n",
    "from sklearn import preprocessing\n",
    "from sklearn.neighbors import KNeighborsClassifier\n",
    "from sklearn.metrics import confusion_matrix, accuracy_score\n",
    "from sklearn.model_selection import train_test_split\n",
    "\n",
    "# dataset\n",
    "weather = ['Sunny', 'Sunny', 'Overcast', 'Rainy', \n",
    "           'Rainy', 'Rainy', 'Overcast', 'Sunny', \n",
    "           'Sunny', 'Rainy', 'Sunny', 'Overcast', \n",
    "           'Overcast', 'Rainy']\n",
    "\n",
    "\n",
    "temperature = ['Hot', 'Hot', 'Hot', 'Mild', 'Cool', \n",
    "               'Cool', 'Cool', 'Mild', 'Cool', 'Mild', \n",
    "               'Mild', 'Mild', 'Hot', 'Mild']\n",
    "\n",
    "play = ['No', 'No', 'Yes', 'Yes', 'Yes', 'No', \n",
    "        'Yes', 'No', 'Yes', 'Yes', 'Yes', 'Yes',\n",
    "        'Yes', 'No']\n",
    "\n",
    "# Encoding the categorical data\n",
    "le = preprocessing.LabelEncoder()\n",
    "weather_encoded = le.fit_transform(weather)\n",
    "temperature_encoded = le.fit_transform(temperature)\n",
    "play_encoded = le.fit_transform(play)\n",
    "\n",
    "# ziping the variables\n",
    "features = list(zip(weather_encoded, temperature_encoded))\n",
    "\n",
    "# Splitting dataset training and testing sets\n",
    "features_train, features_test, label_train, label_test = \n",
    "train_test_split(features, play_encoded, test_size=0.2, random_state=42)\n",
    "\n",
    "\n",
    "# Initialized the KNN model\n",
    "model = KNeighborsClassifier(n_neighbors=3, metric='euclidean')\n",
    "\n",
    "# Train the model\n",
    "model.fit(features_train, label_train)\n",
    "\n",
    "# Make predictions\n",
    "predicted = model.predict(features_test)\n",
    "print(\"Prediction:\", predicted)\n",
    "\n",
    "# Confusion Matrix\n",
    "conf_mat = confusion_matrix(label_test, predicted)\n",
    "print(\"Confusion Matrix:\")\n",
    "print(conf_mat)\n",
    "\n",
    "# Accuracy\n",
    "accuracy = accuracy_score(label_test, predicted)\n",
    "print(\"Accuracy:\", accuracy)\n",
    "\n",
    "\n",
    "\n",
    "\n"
   ]
  },
  {
   "cell_type": "code",
   "execution_count": 13,
   "id": "913ea547-59c3-40f8-969a-008f7933397e",
   "metadata": {},
   "outputs": [
    {
     "name": "stdout",
     "output_type": "stream",
     "text": [
      "Distances from query instance to each training sample:\n",
      "Distance: 3.00, Label: Good\n",
      "Distance: 3.61, Label: Good\n",
      "Distance: 4.00, Label: Bad\n",
      "Distance: 5.00, Label: Bad\n",
      "\n",
      "Nearest neighbors (K=3): ['Good', 'Good', 'Bad']\n",
      "Predicted Classification for the query instance: Good\n"
     ]
    }
   ],
   "source": [
    "import numpy as np\n",
    "from collections import Counter\n",
    "\n",
    "# Define the training samples with their attributes and classifications\n",
    "training_samples = np.array([\n",
    "    [7, 7, 'Bad'],\n",
    "    [7, 4, 'Bad'],\n",
    "    [3, 4, 'Good'],\n",
    "    [1, 4, 'Good']\n",
    "])\n",
    "\n",
    "\n",
    "query_instance = np.array([3, 7])\n",
    "\n",
    "# Function to calculate Euclidean distance\n",
    "def euclidean_distance(point1, point2):\n",
    "    return np.sqrt(np.sum((point1 - point2) ** 2))\n",
    "    \n",
    "distances = []\n",
    "for sample in training_samples:\n",
    "    distance = euclidean_distance(query_instance, sample[:2].astype(float))  \n",
    "    distances.append((distance, sample[2])) \n",
    "\n",
    "# Sort distances by the calculated distance\n",
    "sorted_distances = sorted(distances, key=lambda x: x[0])\n",
    "\n",
    "# Defined K (number of nearest neighbors)\n",
    "K = 3\n",
    "\n",
    "# Get the labels of the K nearest neighbors\n",
    "nearest_neighbors = [label for _, label in sorted_distances[:K]]\n",
    "\n",
    "# Use majority vote to determine the predicted classification\n",
    "prediction = Counter(nearest_neighbors).most_common(1)[0][0]\n",
    "\n",
    "# Display results\n",
    "print(\"Distances from query instance to each training sample:\")\n",
    "for distance, label in sorted_distances:\n",
    "    print(f\"Distance: {distance:.2f}, Label: {label}\")\n",
    "\n",
    "print(\"\\nNearest neighbors (K=3):\", nearest_neighbors)\n",
    "print(\"Predicted Classification for the query instance:\", prediction)\n"
   ]
  },
  {
   "cell_type": "code",
   "execution_count": null,
   "id": "546bb375-7b61-4701-9d1e-9ebc44be5b4f",
   "metadata": {},
   "outputs": [],
   "source": []
  }
 ],
 "metadata": {
  "kernelspec": {
   "display_name": "Python 3 (ipykernel)",
   "language": "python",
   "name": "python3"
  },
  "language_info": {
   "codemirror_mode": {
    "name": "ipython",
    "version": 3
   },
   "file_extension": ".py",
   "mimetype": "text/x-python",
   "name": "python",
   "nbconvert_exporter": "python",
   "pygments_lexer": "ipython3",
   "version": "3.12.4"
  }
 },
 "nbformat": 4,
 "nbformat_minor": 5
}
