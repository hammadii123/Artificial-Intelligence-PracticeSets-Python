{
 "cells": [
  {
   "cell_type": "code",
   "execution_count": 1,
   "id": "6c1bf7f4-284f-4827-b384-9ce6655bff9b",
   "metadata": {},
   "outputs": [
    {
     "name": "stdout",
     "output_type": "stream",
     "text": [
      "['Sheet1', 'Sheet2']\n",
      "     Name  AGE    STREAM  PERCENTAGE\n",
      "0     ali   30      Math          30\n",
      "1  Hammad   18   Science          47\n",
      "2   Abrar   23  Commerce          50\n",
      "3  Fatima   12      Math          80\n",
      "4   Arham   23   Science          40\n",
      "    Name1  AGE1  STREAM1  PERCENTAGE1\n",
      "0   Mahad    30     Math           30\n",
      "1   Komal    37  Science           47\n",
      "2   Abrar    23  physics           50\n",
      "3   Yunis    14     Math           80\n",
      "4  Khawar    34  Science           23\n"
     ]
    }
   ],
   "source": [
    "# Task1 :\tWrite a python code to load an excel spreadsheet containing two different sheets and print both of them.\n",
    "\n",
    "import pandas as pd\n",
    "\n",
    "# Loading Excel file\n",
    "excel_file = pd.ExcelFile('Book11.xlsx')\n",
    "\n",
    "# Print names of the sheets\n",
    "print(excel_file.sheet_names)\n",
    "\n",
    "# Load and print both sheets\n",
    "sheet1 = excel_file.parse(excel_file.sheet_names[0])\n",
    "sheet2 = excel_file.parse(excel_file.sheet_names[1])\n",
    "print(sheet1)\n",
    "print(sheet2)"
   ]
  },
  {
   "cell_type": "code",
   "execution_count": 6,
   "id": "1a9c9eb3-aa73-4c9b-9667-7dc265c6d39d",
   "metadata": {},
   "outputs": [
    {
     "name": "stdout",
     "output_type": "stream",
     "text": [
      "                Maths  SRE  ITC  Programming\n",
      "Hammad Mustafa     32   50   56           45\n",
      "Ali                34   70   45           56\n",
      "Mahad              79   90   56           23\n",
      "Azhar              49   80   67           34\n",
      "Arsal              10   40    0           90\n"
     ]
    }
   ],
   "source": [
    "# Task2 :Write a python cade to generate a pandas data frame having 4 columns and 5 rows. Column 1 must contain the index values like Ali, Amir, Kamran, etc and Row 1 must contain the subject names.\n",
    "\n",
    "import pandas as pd\n",
    "\n",
    "#DataFrame\n",
    "data = {\n",
    "    'Maths': [32, 34, 79, 49, 10], \n",
    "    'SRE': [50, 70, 90, 80, 40],     \n",
    "    'ITC': [56, 45, 56, 67, 0],       \n",
    "    'Programming': [45, 56, 23, 34, 90]      \n",
    "}\n",
    "index = ['Hammad Mustafa', 'Ali', 'Mahad', 'Azhar', 'Arsal']  \n",
    "df = pd.DataFrame(data, index=index)\n",
    "print(df)"
   ]
  },
  {
   "cell_type": "code",
   "execution_count": 3,
   "id": "85cf41fa-25b5-4240-bde6-1e5a5d45f241",
   "metadata": {},
   "outputs": [
    {
     "name": "stdout",
     "output_type": "stream",
     "text": [
      "     Name  AGE\n",
      "0     ali   30\n",
      "1  Hammad   18\n",
      "2   Abrar   23\n",
      "3  Fatima   12\n",
      "4   Arham   23\n"
     ]
    }
   ],
   "source": [
    "# Task3.\tWrite a python code to read an excel spreadsheet and only print first two columns using pandas data frame.\n",
    "\n",
    "import pandas as pd\n",
    "df = pd.read_excel('Book11.xlsx', usecols=[0, 1]) \n",
    "print(df)\n"
   ]
  },
  {
   "cell_type": "code",
   "execution_count": 8,
   "id": "77ada32c-c006-414c-b8cd-4f352b769598",
   "metadata": {},
   "outputs": [
    {
     "name": "stdout",
     "output_type": "stream",
     "text": [
      "   Hammad  18   Science  47\n",
      "0   Abrar  23  Commerce  50\n",
      "1  Fatima  12      Math  80\n",
      "2   Arham  23   Science  40\n"
     ]
    }
   ],
   "source": [
    "# Task4 :\tWrite a python code to skip the first two rows of excel spreadsheet and print the output using pandas data frame.\n",
    "\n",
    "import pandas as pd\n",
    "df = pd.read_excel('Book11.xlsx', skiprows=2)\n",
    "print(df)\n"
   ]
  },
  {
   "cell_type": "code",
   "execution_count": 20,
   "id": "d1bf762b-c31e-4f4e-8667-d90884655c5a",
   "metadata": {},
   "outputs": [
    {
     "name": "stdout",
     "output_type": "stream",
     "text": [
      "      Name  Age     Gender   Salary\n",
      "10   Ahmed   35       Male  65000.0\n",
      "11  Hammad   21       Male  23400.0\n",
      "12  Fatima   12  No Gender      NaN\n"
     ]
    }
   ],
   "source": [
    "# 5.\tWrite a python code to fill all the null values in Gender column of employees.csv with “No Gender”. Print the first 10 to 30 rows of the data frame for visualization. \n",
    "import pandas as pd\n",
    "\n",
    "df = pd.read_csv('employeees1.csv')\n",
    "\n",
    "# FillING null values in the 'Gender' column with 'No Gender'\n",
    "df['Gender'] = df['Gender'].fillna('No Gender')\n",
    "\n",
    "# Print rows 10 to 30\n",
    "print(df[10:30])\n"
   ]
  },
  {
   "cell_type": "code",
   "execution_count": 22,
   "id": "2ac0906b-c88d-4e41-a50a-96edca157a1e",
   "metadata": {},
   "outputs": [
    {
     "name": "stdout",
     "output_type": "stream",
     "text": [
      "        AGE    SALARY\n",
      "0  0.818182  0.000000\n",
      "1  0.000000  0.042553\n",
      "2  0.045455  1.000000\n",
      "3  1.000000  0.361702\n"
     ]
    }
   ],
   "source": [
    "# Task6:\tWrite a python code to scale the values of features (Age and Salary) using Min-Max Normalization technique. Verify your answers by applying the formula mentioned above.\n",
    "\n",
    "import pandas as pd\n",
    "from sklearn import preprocessing\n",
    "\n",
    "# Sample DataFrame\n",
    "data = {'AGE': [30, 12, 13, 34], 'SALARY': [32, 34, 79, 49]}\n",
    "df = pd.DataFrame(data)\n",
    "\n",
    "# Min-Max scaling\n",
    "df[['AGE', 'SALARY']] = preprocessing.MinMaxScaler().fit_transform(df[['AGE', 'SALARY']])\n",
    "print(df)\n"
   ]
  },
  {
   "cell_type": "code",
   "execution_count": 24,
   "id": "9ec770f3-f7bf-4fa9-bba8-2dea8cb9b066",
   "metadata": {},
   "outputs": [
    {
     "name": "stdout",
     "output_type": "stream",
     "text": [
      "        Age    Salary\n",
      "0 -1.436721 -1.070396\n",
      "1  0.504113  0.204969\n",
      "2 -0.554524 -0.592134\n",
      "3 -1.083842 -0.910975\n",
      "4  0.856992  0.364390\n",
      "5  1.562749  2.118017\n",
      "6  0.151234 -0.113872\n"
     ]
    }
   ],
   "source": [
    "# Task 7. Write a python code to scale the values of features (Age and Salary) using Standardization technique. Verify your answers by applying the formula mentioned above.\n",
    "import pandas as pd\n",
    "from sklearn.preprocessing import StandardScaler\n",
    "\n",
    "# Sample DataFrame\n",
    "data = {\n",
    "    'Age': [25, 36, 30, 27, 38, 42, 34],\n",
    "    'Salary': [42000, 50000, 45000, 43000, 51000, 62000, 48000]\n",
    "}\n",
    "df = pd.DataFrame(data)\n",
    "\n",
    "# Standardization\n",
    "scaler = StandardScaler()\n",
    "df[['Age', 'Salary']] = scaler.fit_transform(df[['Age', 'Salary']])\n",
    "\n",
    "print(df)\n"
   ]
  },
  {
   "cell_type": "code",
   "execution_count": 32,
   "id": "1c135a15-15af-4647-bd4a-2ee6e2e36b7b",
   "metadata": {},
   "outputs": [
    {
     "name": "stdout",
     "output_type": "stream",
     "text": [
      "   First Score  Second Score  Third Score\n",
      "0        100.0          30.0         40.0\n",
      "1         90.0          45.0         40.0\n",
      "2         95.0          56.0         80.0\n",
      "3         95.0           NaN         98.0\n"
     ]
    },
    {
     "name": "stderr",
     "output_type": "stream",
     "text": [
      "C:\\Users\\Hammadii\\AppData\\Local\\Temp\\ipykernel_3304\\1341717868.py:15: FutureWarning: DataFrame.interpolate with method=backfill is deprecated and will raise in a future version. Use obj.ffill() or obj.bfill() instead.\n",
      "  df_interpolated = df.interpolate(method='backfill')\n"
     ]
    }
   ],
   "source": [
    "import pandas as pd\n",
    "import numpy as np\n",
    "\n",
    "data = {\n",
    "    'First Score': [100, 90, np.nan, 95],\n",
    "    'Second Score': [30, 45, 56, np.nan],\n",
    "    'Third Score': [np.nan, 40, 80, 98]\n",
    "}\n",
    "\n",
    "# Step 1: Create a DataFrame from the dictionary\n",
    "df = pd.DataFrame(data)\n",
    "\n",
    "# Step 2: Apply backward interpolation\n",
    "df_interpolated = df.interpolate(method='backfill')\n",
    "\n",
    "print(df_interpolated)\n"
   ]
  },
  {
   "cell_type": "code",
   "execution_count": null,
   "id": "d8fb4c8d-ac6f-4725-b292-14fa20d35f92",
   "metadata": {},
   "outputs": [],
   "source": []
  }
 ],
 "metadata": {
  "kernelspec": {
   "display_name": "Python 3 (ipykernel)",
   "language": "python",
   "name": "python3"
  },
  "language_info": {
   "codemirror_mode": {
    "name": "ipython",
    "version": 3
   },
   "file_extension": ".py",
   "mimetype": "text/x-python",
   "name": "python",
   "nbconvert_exporter": "python",
   "pygments_lexer": "ipython3",
   "version": "3.12.4"
  }
 },
 "nbformat": 4,
 "nbformat_minor": 5
}
