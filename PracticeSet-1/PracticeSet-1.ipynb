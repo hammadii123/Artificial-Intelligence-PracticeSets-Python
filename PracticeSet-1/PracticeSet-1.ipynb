{
 "cells": [
  {
   "cell_type": "code",
   "execution_count": 7,
   "id": "149f9ae6-1b60-4225-9aa3-b0ca62b2b453",
   "metadata": {},
   "outputs": [
    {
     "name": "stdin",
     "output_type": "stream",
     "text": [
      "Enter the number 3\n"
     ]
    },
    {
     "name": "stdout",
     "output_type": "stream",
     "text": [
      "The Final result is : 11\n"
     ]
    }
   ],
   "source": [
    "#Task1 : Write a script that take user input for a number then adds 3 to that number. Then multiplies the  result by 2, subtract 4, then again adds 3, then print the result.\n",
    "number= eval(input(\"Enter the number\"))\n",
    "add=number+3;\n",
    "mul=add*2;\n",
    "sub=mul-4;\n",
    "add1=sub+3;\n",
    "print(\"The Final result is :\" ,add1)\n"
   ]
  },
  {
   "cell_type": "code",
   "execution_count": 8,
   "id": "81f5f1f3-c3db-4df6-bfe5-35937a0e8e5a",
   "metadata": {},
   "outputs": [
    {
     "name": "stdin",
     "output_type": "stream",
     "text": [
      "Enter the input in celsius 3\n"
     ]
    },
    {
     "name": "stdout",
     "output_type": "stream",
     "text": [
      "The Result in Farhrenheit is  : 37.4\n"
     ]
    }
   ],
   "source": [
    "# Task2  Write a script that takes input as Celsius and then convert Celsius to Fahrenheit. (hint: Fahrenheit = (Celsius * 1.8) + 32)\n",
    "\n",
    "celsius=eval(input(\"Enter the input in celsius\"));\n",
    "far=((celsius*1.8)+32);\n",
    "print(\"The Result in Farhrenheit is  :\" ,far)"
   ]
  },
  {
   "cell_type": "code",
   "execution_count": 14,
   "id": "fb7bf89b-034c-4d54-8c01-7fe81288e6ce",
   "metadata": {},
   "outputs": [
    {
     "name": "stdin",
     "output_type": "stream",
     "text": [
      "Enter the radius 3\n"
     ]
    },
    {
     "name": "stdout",
     "output_type": "stream",
     "text": [
      "The area is  : 28.274333882308138\n"
     ]
    }
   ],
   "source": [
    "# Task3 Write a script that takes input as radius then calculate area of circle. (hint: A = πr²)\n",
    "import math\n",
    "radius=eval(input(\"Enter the radius\"));\n",
    "area=(math.pi*radius**2)\n",
    "print(\"The area is  :\" ,area)"
   ]
  },
  {
   "cell_type": "code",
   "execution_count": 7,
   "id": "e57ad81c-b84d-4645-b3c3-32826343502e",
   "metadata": {},
   "outputs": [
    {
     "name": "stdin",
     "output_type": "stream",
     "text": [
      "Enter your favourite color: blue\n"
     ]
    },
    {
     "name": "stdout",
     "output_type": "stream",
     "text": [
      "\n",
      "blueblueblueblueblueblueblueblueblueblue\n",
      "blue                                blue\n",
      "\n",
      "blueblueblueblueblueblueblueblueblueblue\n"
     ]
    }
   ],
   "source": [
    "# Task4 : Write a Python script that asks users for their favourite color. Create the following output (assuming blue is the chosen color) (hint: use ‘+’ and ‘*’)\n",
    " # blueblueblueblueblueblueblueblueblueblue\n",
    " # blue                                blue\n",
    " # blueblueblueblueblueblueblueblueblueblue\n",
    "\n",
    "color=input(\"Enter your favourite color:\");\n",
    "print(\"\\n\"+color*10);\n",
    "print(color+\" \" *32 +color);\n",
    "print(\"\\n\"+color*10);"
   ]
  },
  {
   "cell_type": "code",
   "execution_count": 31,
   "id": "8be69f18-9ece-477a-a3d5-6203eefdb9f5",
   "metadata": {},
   "outputs": [
    {
     "name": "stdout",
     "output_type": "stream",
     "text": [
      "Name with whitespace:\n",
      "\t\n",
      " Hammad Mustafa \n",
      " \t\n",
      "\n",
      "Using lstrip():\n",
      "Hammad Mustafa \n",
      " \t\n",
      "\n",
      "Using rstrip():\n",
      "\t\n",
      " Hammad Mustafa\n",
      "\n",
      "Using strip():\n",
      "Hammad Mustafa\n"
     ]
    }
   ],
   "source": [
    "# Task5 Store a person’s name, and include some whitespace characters at the beginning and end of  the name. Make sure you use each character combination, \"\\t\" and \"\\n\", at least once. Print the name once, so the whitespace around the name is displayed. Then print the name using  each of the three stripping functions, lstrip( ), rstrip(), and strip().\n",
    "name=\"\\t\\n Hammad Mustafa \\n \\t\"\n",
    "print(\"Name with whitespace:\")\n",
    "print(name)\n",
    "\n",
    "print(\"\\nUsing lstrip():\")\n",
    "print(name.lstrip());\n",
    "\n",
    "print(\"\\nUsing rstrip():\")\n",
    "print(name.rstrip());\n",
    "\n",
    "print(\"\\nUsing strip():\")\n",
    "print(name.strip());\n"
   ]
  },
  {
   "cell_type": "code",
   "execution_count": 35,
   "id": "78e25b97-72f1-41f4-9191-821e115ff0ff",
   "metadata": {},
   "outputs": [
    {
     "name": "stdin",
     "output_type": "stream",
     "text": [
      "Enter the number to create its multiplication table 3\n"
     ]
    },
    {
     "name": "stdout",
     "output_type": "stream",
     "text": [
      "\n",
      " Multiplication tabble of {number}:\n",
      "3 * 1 =  3\n",
      "3 * 2 =  6\n",
      "3 * 3 =  9\n",
      "3 * 4 =  12\n",
      "3 * 5 =  15\n",
      "3 * 6 =  18\n",
      "3 * 7 =  21\n",
      "3 * 8 =  24\n",
      "3 * 9 =  27\n",
      "3 * 10 =  30\n"
     ]
    }
   ],
   "source": [
    "# Task6 : Write a python script that take a user input and to create the multiplication table (from 1 to 10) of that number.\n",
    "number=int(input(\"Enter the number to create its multiplication table\"))\n",
    "print(\"\\n Multiplication tabble of {number}:\")\n",
    "for i in range(1,11):\n",
    "    print(number , \"*\" ,i , \"= \" , number*i)\n",
    "    "
   ]
  },
  {
   "cell_type": "code",
   "execution_count": 41,
   "id": "1c9d26c8-90b8-4389-b495-01e67eb57e63",
   "metadata": {},
   "outputs": [
    {
     "name": "stdout",
     "output_type": "stream",
     "text": [
      "Islamabad is in Pakistan.\n",
      "Multan is in Pakistan.\n",
      "Tokyo is in Japan.\n"
     ]
    }
   ],
   "source": [
    "# Task7 : Write a function called describe_city( ) that accepts the name of a city and its country. The function should print a simple sentence, such as Islamabad is in Pakistan. Give the parameter for  the country a default value. Call your function for three different cities, at least one of which is not in the default country.\n",
    "\n",
    "def describe_city(city,country=\"Pakistan\"):\n",
    "    print(f\"{city} is in {country}.\")\n",
    "\n",
    "\n",
    "describe_city(\"Islamabad\")\n",
    "describe_city(\"Multan\")\n",
    "describe_city(\"Tokyo\", \"Japan\");\n",
    "\n"
   ]
  },
  {
   "cell_type": "code",
   "execution_count": 48,
   "id": "6c166f68-22cd-4dda-962a-799cf32ad8b7",
   "metadata": {},
   "outputs": [
    {
     "name": "stdout",
     "output_type": "stream",
     "text": [
      "The absolute value of -3 is 3\n",
      "The absolute value of 5 is 5\n"
     ]
    }
   ],
   "source": [
    "#Task8 Write a function called absolute_num() that accepts one parameter, num. The function should return only positive value, and apply condition on it. This function returns the absolute value of the entered number.\n",
    "def absolute_num(num): \n",
    "    if num<0:\n",
    "        return -1* num\n",
    "\n",
    "    else:\n",
    "        return num\n",
    "result1=absolute_num(-3)\n",
    "result2=absolute_num(5)\n",
    "print(f\"The absolute value of -3 is {result1}\")\n",
    "print(f\"The absolute value of 5 is {result2}\")"
   ]
  },
  {
   "cell_type": "code",
   "execution_count": 54,
   "id": "269d99dc-4257-4c4f-aeca-a3b6e304efd6",
   "metadata": {},
   "outputs": [
    {
     "name": "stdin",
     "output_type": "stream",
     "text": [
      "Enter the alphabet to check b\n"
     ]
    },
    {
     "name": "stdout",
     "output_type": "stream",
     "text": [
      "b is a consonant\n"
     ]
    }
   ],
   "source": [
    "#Task9 : Write Python Program to check whether an alphabet is a vowel or consonant? (use if, else conditional statement).\n",
    "alphabet =input(\"Enter the alphabet to check\")\n",
    "\n",
    "vowels=\"aeiou\"\n",
    "\n",
    "if alphabet in vowels:\n",
    "    print(f\"{alphabet} is a vowel\")\n",
    "\n",
    "else:\n",
    "    print(f\"{alphabet} is a consonant\")\n"
   ]
  },
  {
   "cell_type": "code",
   "execution_count": 59,
   "id": "52b6fb6c-20fe-41ff-9ff8-d6bf551b91e9",
   "metadata": {},
   "outputs": [
    {
     "name": "stdin",
     "output_type": "stream",
     "text": [
      "Enter the number 3\n"
     ]
    },
    {
     "name": "stdout",
     "output_type": "stream",
     "text": [
      "3 is a prime number\n"
     ]
    }
   ],
   "source": [
    "#Task10 : Write a Python program to check whether a number is prime or not? (use if, else conditional statement). \n",
    "num=int(input(\"Enter the number\"))\n",
    "        \n",
    "if num >1:\n",
    "    for i in range(2,num):\n",
    "        if num % i==0:\n",
    "            print(f\"{num} is not a prime number\");\n",
    "            break;\n",
    "        else:\n",
    "            print(f\"{num} is a prime number\")\n",
    "\n",
    "else:\n",
    "    print(f\"{num} is not a prime number\")"
   ]
  },
  {
   "cell_type": "code",
   "execution_count": 61,
   "id": "de32403d-0ee1-4d68-b1a6-84a4effef91c",
   "metadata": {},
   "outputs": [
    {
     "name": "stdout",
     "output_type": "stream",
     "text": [
      "0\n",
      "1\n",
      "2\n",
      "4\n",
      "5\n"
     ]
    }
   ],
   "source": [
    "#Task11 : rite a Python program that prints all the numbers from 0 to 6 except 3 and 6. (Hint: Use 'continue' statement).\n",
    "for i in range (7):\n",
    "    if i==3:\n",
    "        continue\n",
    "    elif i==6:\n",
    "        continue\n",
    "\n",
    "    print(i)\n",
    "\n"
   ]
  },
  {
   "cell_type": "code",
   "execution_count": 19,
   "id": "4a74f9ac-d607-4fc7-8811-6ae66418e8b1",
   "metadata": {},
   "outputs": [
    {
     "name": "stdout",
     "output_type": "stream",
     "text": [
      "1 \n",
      "2 2 \n",
      "3 3 3 \n",
      "4 4 4 4 \n",
      "5 5 5 5 5 \n"
     ]
    }
   ],
   "source": [
    "# Task12 :Write a Python program to construct the following pattern. (using nested loop)\n",
    "# 1\n",
    "# 2 2\n",
    "# 3 3 3\n",
    "# 4 4 4 4\n",
    "# 5 5 5 5 5\n",
    "\n",
    "for i in range(1,6):\n",
    "    for j in range(i):\n",
    "        print(i, end = \" \")\n",
    "        \n",
    "    print()\n",
    "\n"
   ]
  },
  {
   "cell_type": "code",
   "execution_count": 21,
   "id": "e0e74764-1419-4b61-aa2c-26062820f7a0",
   "metadata": {},
   "outputs": [
    {
     "name": "stdout",
     "output_type": "stream",
     "text": [
      "The person is an adult.\n"
     ]
    }
   ],
   "source": [
    "# Task13 : Stages of Life: Write an if-elif-else chain that determines a person’s stage of life. Set a value \n",
    "# for the variable age, and then:\n",
    "#  If the person is less than 2 years old, print a message that the person is a baby.\n",
    "#  If the person is at least 4 years old but less than 13, print a message that the \n",
    "# person is a kid.\n",
    "#  If the person is at least 13 years old but less than 20, print a message that the \n",
    "# person is a teenager.\n",
    "#  If the person is at least 20 years old but less than 65, print a message that the \n",
    "# person is an adult.\n",
    "#  If the person is age 65 or older, print a message that the person is an elder\n",
    "\n",
    "age=25\n",
    "if age < 2:\n",
    "    print(\"The person is a baby.\")\n",
    "elif age >= 2 and age < 4:\n",
    "    print(\"The person is a toddler.\")\n",
    "elif age >= 4 and age < 13:\n",
    "    print(\"The person is a kid.\")\n",
    "elif age >= 13 and age < 20:\n",
    "    print(\"The person is a teenager.\")\n",
    "elif age >= 20 and age < 65:\n",
    "    print(\"The person is an adult.\")\n",
    "else:\n",
    "    print(\"The person is an elder.\")"
   ]
  },
  {
   "cell_type": "code",
   "execution_count": null,
   "id": "8d5153d2-cc60-4d41-b664-a8bd9b38c884",
   "metadata": {},
   "outputs": [],
   "source": []
  }
 ],
 "metadata": {
  "kernelspec": {
   "display_name": "Python 3 (ipykernel)",
   "language": "python",
   "name": "python3"
  },
  "language_info": {
   "codemirror_mode": {
    "name": "ipython",
    "version": 3
   },
   "file_extension": ".py",
   "mimetype": "text/x-python",
   "name": "python",
   "nbconvert_exporter": "python",
   "pygments_lexer": "ipython3",
   "version": "3.12.4"
  }
 },
 "nbformat": 4,
 "nbformat_minor": 5
}
